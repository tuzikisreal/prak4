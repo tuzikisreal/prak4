{
 "cells": [
  {
   "cell_type": "code",
   "execution_count": null,
   "id": "7b32b244",
   "metadata": {},
   "outputs": [],
   "source": [
    "import socket, threading\n",
    "\n",
    "def receiving():\n",
    "    while True:\n",
    "        try:\n",
    "            msg= sock.recv(1024).decode('utf-8')\n",
    "            if msg == 'login':\n",
    "                sock.send(login.encode('utf-8'))\n",
    "            else:\n",
    "                print(msg)\n",
    "        except:\n",
    "            print(\"The client is disconnected!\")\n",
    "            sock.close()\n",
    "            break\n",
    "\n",
    "def sending():\n",
    "    while True:\n",
    "        phrase=input()\n",
    "        msg=login+':'+phrase\n",
    "        sock.send(msg.encode('utf-8'))\n",
    "        if phrase=='exit':\n",
    "            print(\"The client is disconnected!\")\n",
    "            sock.close()\n",
    "            break\n",
    "login = input(\"Input your login: \")\n",
    "sock = socket.socket(socket.AF_INET, socket.SOCK_STREAM)\n",
    "sock.connect(('127.0.0.1', 9090))\n",
    "threading.Thread(target=receiving).start()\n",
    "threading.Thread(target=sending).start()"
   ]
  }
 ],
 "metadata": {
  "kernelspec": {
   "display_name": "Python 3 (ipykernel)",
   "language": "python",
   "name": "python3"
  },
  "language_info": {
   "codemirror_mode": {
    "name": "ipython",
    "version": 3
   },
   "file_extension": ".py",
   "mimetype": "text/x-python",
   "name": "python",
   "nbconvert_exporter": "python",
   "pygments_lexer": "ipython3",
   "version": "3.9.7"
  }
 },
 "nbformat": 4,
 "nbformat_minor": 5
}
