{
 "cells": [
  {
   "cell_type": "code",
   "execution_count": null,
   "id": "125a4695",
   "metadata": {},
   "outputs": [],
   "source": [
    "import socket, threading,sys\n",
    "\n",
    "def server(conn, addr):\n",
    "    while True:\n",
    "        print('Получение данных от клиента')\n",
    "        try:\n",
    "            data = conn.recv(1024)\n",
    "            print('Сообщение от клиента', addr, ':', data.decode)\n",
    "            print('Отправка сообщения клиенту')\n",
    "            conn.send(data)\n",
    "        except (ConnectionResetError, ConnectionAbortedError):\n",
    "            print('Соединение с клиентом прервано')\n",
    "            raise\n",
    "\n",
    "\n",
    "sys.tracebacklimit = 0\n",
    "sock = socket.socket()\n",
    "print('Запуск сервера')\n",
    "sock.bind(('', 9090))\n",
    "print('Начало прослушивания порта')\n",
    "sock.listen(0)\n",
    "while True:\n",
    "    conn, addr = sock.accept()\n",
    "    print(\"Подключение клиента:\",addr)\n",
    "    thread=threading.Thread(target = server, args = (conn, addr), daemon = True)\n",
    "    thread.start()\n",
    "\n",
    "print('Прекращение работы сервера')"
   ]
  }
 ],
 "metadata": {
  "kernelspec": {
   "display_name": "Python 3 (ipykernel)",
   "language": "python",
   "name": "python3"
  },
  "language_info": {
   "codemirror_mode": {
    "name": "ipython",
    "version": 3
   },
   "file_extension": ".py",
   "mimetype": "text/x-python",
   "name": "python",
   "nbconvert_exporter": "python",
   "pygments_lexer": "ipython3",
   "version": "3.9.7"
  }
 },
 "nbformat": 4,
 "nbformat_minor": 5
}
