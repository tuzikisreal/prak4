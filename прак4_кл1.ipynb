{
 "cells": [
  {
   "cell_type": "code",
   "execution_count": null,
   "id": "9b5fc742",
   "metadata": {},
   "outputs": [],
   "source": [
    "import socket\n",
    "sock = socket.socket()\n",
    "sock.setblocking(1)\n",
    "print('Подключение клиента:')\n",
    "sock.connect(('127.0.0.1', 9090))\n",
    "\n",
    "while True:\n",
    "    print('Для отключения введите \"exit\"')\n",
    "    msg = input('Введите сообщение:')\n",
    "    data=msg.encode()\n",
    "    sock.send(data)\n",
    "    if msg == 'exit':\n",
    "        break\n",
    "    data = sock.recv(1024)\n",
    "    print(f'Сообщение от сервера:', data.decode())\n",
    "\n",
    "print('Отключение клиента')\n",
    "sock.close()\n",
    "Footer\n",
    "© 2022 GitHub, Inc.\n",
    "Footer navigation\n",
    "Terms"
   ]
  }
 ],
 "metadata": {
  "kernelspec": {
   "display_name": "Python 3 (ipykernel)",
   "language": "python",
   "name": "python3"
  },
  "language_info": {
   "codemirror_mode": {
    "name": "ipython",
    "version": 3
   },
   "file_extension": ".py",
   "mimetype": "text/x-python",
   "name": "python",
   "nbconvert_exporter": "python",
   "pygments_lexer": "ipython3",
   "version": "3.9.7"
  }
 },
 "nbformat": 4,
 "nbformat_minor": 5
}
